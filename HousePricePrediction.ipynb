{
 "cells": [
  {
   "cell_type": "markdown",
   "metadata": {},
   "source": [
    "<h1>Import Library"
   ]
  },
  {
   "cell_type": "code",
   "execution_count": 14,
   "metadata": {},
   "outputs": [],
   "source": [
    "import pandas as pd\n",
    "import matplotlib.pyplot as plt\n",
    "from sklearn.model_selection import train_test_split\n",
    "import seaborn as sns\n",
    "from sklearn.metrics import mean_squared_error, r2_score, mean_absolute_error\n",
    "from sklearn.preprocessing import StandardScaler\n"
   ]
  },
  {
   "cell_type": "markdown",
   "metadata": {},
   "source": [
    "<h1> Input Data"
   ]
  },
  {
   "cell_type": "code",
   "execution_count": 12,
   "metadata": {},
   "outputs": [
    {
     "name": "stdout",
     "output_type": "stream",
     "text": [
      "Train size: 17290 (80.0%)\n",
      "Validation size: 2161 (10.0%)\n",
      "Test size: 2162 (10.0%)\n",
      "       price  bedrooms  bathrooms  sqft_living  sqft_lot  floors  waterfront  \\\n",
      "0   221900.0         3       1.00         1180      5650     1.0           0   \n",
      "1   538000.0         3       2.25         2570      7242     2.0           0   \n",
      "2   180000.0         2       1.00          770     10000     1.0           0   \n",
      "3   604000.0         4       3.00         1960      5000     1.0           0   \n",
      "4   510000.0         3       2.00         1680      8080     1.0           0   \n",
      "5  1225000.0         4       4.50         5420    101930     1.0           0   \n",
      "6   257500.0         3       2.25         1715      6819     2.0           0   \n",
      "7   291850.0         3       1.50         1060      9711     1.0           0   \n",
      "8   229500.0         3       1.00         1780      7470     1.0           0   \n",
      "9   323000.0         3       2.50         1890      6560     2.0           0   \n",
      "\n",
      "   view  condition  grade  sqft_above  sqft_basement  yr_built  yr_renovated  \\\n",
      "0     0          3      7        1180              0      1955             0   \n",
      "1     0          3      7        2170            400      1951          1991   \n",
      "2     0          3      6         770              0      1933             0   \n",
      "3     0          5      7        1050            910      1965             0   \n",
      "4     0          3      8        1680              0      1987             0   \n",
      "5     0          3     11        3890           1530      2001             0   \n",
      "6     0          3      7        1715              0      1995             0   \n",
      "7     0          3      7        1060              0      1963             0   \n",
      "8     0          3      7        1050            730      1960             0   \n",
      "9     0          3      7        1890              0      2003             0   \n",
      "\n",
      "   zipcode      lat     long  sqft_living15  sqft_lot15  \n",
      "0    98178  47.5112 -122.257           1340        5650  \n",
      "1    98125  47.7210 -122.319           1690        7639  \n",
      "2    98028  47.7379 -122.233           2720        8062  \n",
      "3    98136  47.5208 -122.393           1360        5000  \n",
      "4    98074  47.6168 -122.045           1800        7503  \n",
      "5    98053  47.6561 -122.005           4760      101930  \n",
      "6    98003  47.3097 -122.327           2238        6819  \n",
      "7    98198  47.4095 -122.315           1650        9711  \n",
      "8    98146  47.5123 -122.337           1780        8113  \n",
      "9    98038  47.3684 -122.031           2390        7570  \n"
     ]
    }
   ],
   "source": [
    "file_path = \"kc_house_data.csv\"\n",
    "data = pd.read_csv(file_path)\n",
    "data = data.drop(columns=['id', 'date'])\n",
    "\n",
    "# Pisahkan fitur dan target\n",
    "X = data.drop(columns=['price']).values\n",
    "y = data['price'].values\n",
    "\n",
    "# Misalnya dataset memiliki fitur X dan label y\n",
    "X_train, X_temp, y_train, y_temp = train_test_split(X, y, test_size=0.2, random_state=42)  # 20% untuk val + test\n",
    "X_val, X_test, y_val, y_test = train_test_split(X_temp, y_temp, test_size=0.5, random_state=42)  # Bagi 10% - 10%\n",
    "\n",
    "scaler = StandardScaler()\n",
    "X_train = scaler.fit_transform(X_train)\n",
    "X_test = scaler.transform(X_test)\n",
    "\n",
    "y_train = y_train.astype(\"float32\")\n",
    "y_test = y_test.astype(\"float32\")\n",
    "\n",
    "# Cek ukuran data\n",
    "print(f\"Train size: {len(X_train)} ({len(X_train)/len(X)*100:.1f}%)\")\n",
    "print(f\"Validation size: {len(X_val)} ({len(X_val)/len(X)*100:.1f}%)\")\n",
    "print(f\"Test size: {len(X_test)} ({len(X_test)/len(X)*100:.1f}%)\")\n",
    "\n",
    "print(data.head(10))\n"
   ]
  },
  {
   "cell_type": "markdown",
   "metadata": {},
   "source": [
    "<h1>XGBoost"
   ]
  },
  {
   "cell_type": "code",
   "execution_count": 15,
   "metadata": {},
   "outputs": [
    {
     "name": "stdout",
     "output_type": "stream",
     "text": [
      "[0]\ttrain-mae:213023.25717\teval-mae:321767.16511\n"
     ]
    },
    {
     "name": "stdout",
     "output_type": "stream",
     "text": [
      "[1]\ttrain-mae:196535.93964\teval-mae:552966.19615\n",
      "[2]\ttrain-mae:181855.67833\teval-mae:745754.93001\n",
      "Mean Absolute Error (Test): 197079.73\n"
     ]
    }
   ],
   "source": [
    "import xgboost as xgb\n",
    "\n",
    "# Konversi ke DMatrix (format khusus XGBoost)\n",
    "dtrain = xgb.DMatrix(X_train, label=y_train)\n",
    "dval = xgb.DMatrix(X_val, label=y_val)\n",
    "\n",
    "# Parameter XGBoost (sederhana)\n",
    "params = {\n",
    "    \"objective\": \"reg:squarederror\",  # Regression task\n",
    "    \"eval_metric\": \"mae\",  # Mean Absolute Error\n",
    "    \"learning_rate\": 0.1,\n",
    "    \"max_depth\": 6,\n",
    "    \"n_jobs\": -1  # Gunakan semua core CPU\n",
    "}\n",
    "\n",
    "# Training model (3 epoch)\n",
    "watchlist = [(dtrain, \"train\"), (dval, \"eval\")]\n",
    "model = xgb.train(params, dtrain, num_boost_round=3, evals=watchlist)\n",
    "\n",
    "# Evaluasi di test set\n",
    "dtest = xgb.DMatrix(X_test)\n",
    "y_pred = model.predict(dtest)\n",
    "mae = mean_absolute_error(y_test, y_pred)\n",
    "print(f\"Mean Absolute Error (Test): {mae:.2f}\")"
   ]
  },
  {
   "cell_type": "markdown",
   "metadata": {},
   "source": [
    "<h1>LightGBM"
   ]
  },
  {
   "cell_type": "code",
   "execution_count": 9,
   "metadata": {},
   "outputs": [
    {
     "name": "stdout",
     "output_type": "stream",
     "text": [
      "4.6.0\n"
     ]
    }
   ],
   "source": [
    "import lightgbm as lgb\n",
    "print(lgb.__version__)\n"
   ]
  },
  {
   "cell_type": "markdown",
   "metadata": {},
   "source": [
    "<h1>CatBoost"
   ]
  },
  {
   "cell_type": "code",
   "execution_count": 10,
   "metadata": {},
   "outputs": [
    {
     "name": "stdout",
     "output_type": "stream",
     "text": [
      "1.2.7\n"
     ]
    }
   ],
   "source": [
    "import catboost\n",
    "print(catboost.__version__)\n"
   ]
  }
 ],
 "metadata": {
  "kernelspec": {
   "display_name": "compvis",
   "language": "python",
   "name": "python3"
  },
  "language_info": {
   "codemirror_mode": {
    "name": "ipython",
    "version": 3
   },
   "file_extension": ".py",
   "mimetype": "text/x-python",
   "name": "python",
   "nbconvert_exporter": "python",
   "pygments_lexer": "ipython3",
   "version": "3.10.14"
  }
 },
 "nbformat": 4,
 "nbformat_minor": 2
}
